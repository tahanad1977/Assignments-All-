{
 "cells": [
  {
   "cell_type": "code",
   "execution_count": 2,
   "id": "9fec4613-1352-4760-90dd-7e7f1e5c9b61",
   "metadata": {},
   "outputs": [],
   "source": [
    "# 1.\n",
    "\n",
    "def find_max(num_lst=[]):\n",
    "    \"\"\"\n",
    "    get a list of nums\n",
    "    return a max num in list\n",
    "    \"\"\"\n",
    "    if type(num_lst) != list:\n",
    "        return \"Invalid list\"\n",
    "    \n",
    "    max_num = 0\n",
    "    for num in num_lst:\n",
    "        if num > max_num:\n",
    "            max_num = num\n",
    "    return max_num"
   ]
  },
  {
   "cell_type": "code",
   "execution_count": 3,
   "id": "4862e658-1a55-4540-87d6-09b7fdb29224",
   "metadata": {},
   "outputs": [
    {
     "data": {
      "text/plain": [
       "124"
      ]
     },
     "execution_count": 3,
     "metadata": {},
     "output_type": "execute_result"
    }
   ],
   "source": [
    "find_max([123, 124, 12])"
   ]
  },
  {
   "cell_type": "code",
   "execution_count": 4,
   "id": "4e758db0-df23-4106-be86-18db61077d0a",
   "metadata": {},
   "outputs": [],
   "source": [
    "# 2.\n",
    "\n",
    "def sum_num(num_lst=[]):\n",
    "    \"\"\"\n",
    "    get a list of nums\n",
    "    return a sum of list\n",
    "    \"\"\"\n",
    "    if type(num_lst) != list:\n",
    "        return \"Invalid list\"\n",
    "    \n",
    "    sum_num = 0\n",
    "    for num in num_lst:\n",
    "        sum_num += num\n",
    "    return sum_num"
   ]
  },
  {
   "cell_type": "code",
   "execution_count": 5,
   "id": "66914a9b-96fd-479c-a973-0c36237f74d6",
   "metadata": {},
   "outputs": [
    {
     "data": {
      "text/plain": [
       "10"
      ]
     },
     "execution_count": 5,
     "metadata": {},
     "output_type": "execute_result"
    }
   ],
   "source": [
    "sum_num([1,7,2])"
   ]
  },
  {
   "cell_type": "code",
   "execution_count": 6,
   "id": "76e4de9e-6cd7-4bf9-9189-e10302d6074e",
   "metadata": {},
   "outputs": [],
   "source": [
    "# 3.\n",
    "\n",
    "def multiply_num(num_lst=[]):\n",
    "    \"\"\"\n",
    "    get a list of nums\n",
    "    return a multiplyed num of list\n",
    "    \"\"\"\n",
    "    if type(num_lst) != list and type(num_lst) != tuple:\n",
    "        return \"Invalid list\"\n",
    "    \n",
    "    multiplyed_num = num_lst[0]\n",
    "    \n",
    "    for num in num_lst[1:]:\n",
    "        multiplyed_num = multiplyed_num*num\n",
    "    \n",
    "    return multiplyed_num"
   ]
  },
  {
   "cell_type": "code",
   "execution_count": 7,
   "id": "49627f96-b7dd-4325-8b99-dffa52dc2bbc",
   "metadata": {},
   "outputs": [
    {
     "data": {
      "text/plain": [
       "-336"
      ]
     },
     "execution_count": 7,
     "metadata": {},
     "output_type": "execute_result"
    }
   ],
   "source": [
    "multiply_num((8, 2, 3, -1, 7))"
   ]
  },
  {
   "cell_type": "code",
   "execution_count": 8,
   "id": "04242663-a52b-454a-ab70-5ef8b8bafd95",
   "metadata": {},
   "outputs": [],
   "source": [
    "# 4.\n",
    "\n",
    "def reverse_str(txt):\n",
    "    \"\"\"\n",
    "    get a text\n",
    "    return a reversed text\n",
    "    \"\"\"\n",
    "    return txt[::-1]"
   ]
  },
  {
   "cell_type": "code",
   "execution_count": 9,
   "id": "5315a8d9-dea3-446a-b8ad-ed1174f04544",
   "metadata": {},
   "outputs": [
    {
     "data": {
      "text/plain": [
       "'dcba4321'"
      ]
     },
     "execution_count": 9,
     "metadata": {},
     "output_type": "execute_result"
    }
   ],
   "source": [
    "reverse_str(\"1234abcd\")"
   ]
  },
  {
   "cell_type": "code",
   "execution_count": 10,
   "id": "87414a88-f1be-4ea0-b5c1-25cc4609bc79",
   "metadata": {},
   "outputs": [],
   "source": [
    "# 5.\n",
    "\n",
    "def check_only_int(num_lst=[]):\n",
    "    for num in num_lst:\n",
    "        if type(num) != int:\n",
    "            return False\n",
    "            break\n",
    "    else:\n",
    "        return True"
   ]
  },
  {
   "cell_type": "code",
   "execution_count": 11,
   "id": "c64f6e21-5546-46a2-9125-9bf923f9d5d1",
   "metadata": {},
   "outputs": [
    {
     "data": {
      "text/plain": [
       "False"
      ]
     },
     "execution_count": 11,
     "metadata": {},
     "output_type": "execute_result"
    }
   ],
   "source": [
    "check_only_int([1,12.3])"
   ]
  },
  {
   "cell_type": "code",
   "execution_count": 12,
   "id": "a484ba3f-cc21-4dbb-956e-593fb5331669",
   "metadata": {},
   "outputs": [],
   "source": [
    "# 7.\n",
    "\n",
    "def count_upper_lower(txt=\"ASdf\"):\n",
    "    \"\"\"\n",
    "    get a text\n",
    "    return a upper or lower numbers\n",
    "    \"\"\"\n",
    "\n",
    "    txt_lst = txt.split()\n",
    "    for t in txt_lst:\n",
    "        if not t.isalpha():\n",
    "            return \"Invalid text\"\n",
    "    \n",
    "    dic = {\"upper\": 0, \"lower\": 0}\n",
    "\n",
    "    for t in txt:\n",
    "        if t.isupper():\n",
    "            dic[\"upper\"] += 1\n",
    "        elif t.islower():\n",
    "            dic[\"lower\"] += 1\n",
    "\n",
    "    return dic"
   ]
  },
  {
   "cell_type": "code",
   "execution_count": 13,
   "id": "4b35be43-c423-4696-ad6f-36bc8b681e86",
   "metadata": {},
   "outputs": [
    {
     "data": {
      "text/plain": [
       "'Invalid text'"
      ]
     },
     "execution_count": 13,
     "metadata": {},
     "output_type": "execute_result"
    }
   ],
   "source": [
    "count_upper_lower(\"The 1\")"
   ]
  },
  {
   "cell_type": "code",
   "execution_count": 14,
   "id": "deb1d587-b5c8-482a-9fdb-590b32e66317",
   "metadata": {},
   "outputs": [],
   "source": [
    "# 8.\n",
    "\n",
    "def get_unique_lst(lst):\n",
    "    return list(set(lst))"
   ]
  },
  {
   "cell_type": "code",
   "execution_count": 15,
   "id": "d8101e95-8833-4d98-b0c5-8396679de17c",
   "metadata": {},
   "outputs": [
    {
     "data": {
      "text/plain": [
       "[1, 2, 3, 4]"
      ]
     },
     "execution_count": 15,
     "metadata": {},
     "output_type": "execute_result"
    }
   ],
   "source": [
    "get_unique_lst([1,2,3,4,3])"
   ]
  },
  {
   "cell_type": "code",
   "execution_count": 16,
   "id": "ad3cea85-b604-4fd0-9e57-b4bdb517e5d7",
   "metadata": {},
   "outputs": [],
   "source": [
    "# 10.\n",
    "\n",
    "def get_even_num(num_lst=[]):\n",
    "    even_lst = []\n",
    "\n",
    "    if type(num_lst) != list and type(num_lst) != tuple:\n",
    "        return \"Invalid list\"\n",
    "\n",
    "    for num in num_lst:\n",
    "        if num%2 == 0:\n",
    "            even_lst.append(num)\n",
    "    return even_lst"
   ]
  },
  {
   "cell_type": "code",
   "execution_count": null,
   "id": "e8c49c88-9a2c-4034-8368-7c02822a47d7",
   "metadata": {},
   "outputs": [],
   "source": []
  }
 ],
 "metadata": {
  "kernelspec": {
   "display_name": "Python 3 (ipykernel)",
   "language": "python",
   "name": "python3"
  },
  "language_info": {
   "codemirror_mode": {
    "name": "ipython",
    "version": 3
   },
   "file_extension": ".py",
   "mimetype": "text/x-python",
   "name": "python",
   "nbconvert_exporter": "python",
   "pygments_lexer": "ipython3",
   "version": "3.12.7"
  }
 },
 "nbformat": 4,
 "nbformat_minor": 5
}
