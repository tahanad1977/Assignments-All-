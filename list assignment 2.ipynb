{
 "cells": [
  {
   "cell_type": "markdown",
   "id": "3b09c8da-eedc-4102-8ac4-8bc9e941f233",
   "metadata": {},
   "source": [
    "### List Assignment"
   ]
  },
  {
   "cell_type": "code",
   "execution_count": 13,
   "id": "ddbe4930-af9f-4f64-af9e-7c2089505f71",
   "metadata": {},
   "outputs": [
    {
     "name": "stdin",
     "output_type": "stream",
     "text": [
      "Enter a list of elements separated by spaces:  1 2 3 4 5 6 7 \n"
     ]
    },
    {
     "name": "stdout",
     "output_type": "stream",
     "text": [
      "The alternate elements of the list are: 1234567\n"
     ]
    }
   ],
   "source": [
    "user_list = input(\"Enter a list with spaces: \").split()\n",
    "print(\"alternate elements: \", user_list[::2])"
   ]
  },
  {
   "cell_type": "code",
   "execution_count": 19,
   "id": "ef456af7-2ab6-4b84-af1a-b791046201e5",
   "metadata": {},
   "outputs": [
    {
     "name": "stdin",
     "output_type": "stream",
     "text": [
      "Enter a list with spaces:  2 3 4 5 6 7 \n"
     ]
    },
    {
     "name": "stdout",
     "output_type": "stream",
     "text": [
      "The reversed list is: ['7', '6', '5', '4', '3', '2']\n"
     ]
    }
   ],
   "source": [
    "user_list = input(\"Enter a list with spaces: \").split()\n",
    "reversed_list = user_list[::-1]\n",
    "print(f\"The reversed list is: {reversed_list}\")"
   ]
  },
  {
   "cell_type": "code",
   "execution_count": 27,
   "id": "e07ea1d7-7ee8-4e47-b68b-11cc04cb53fe",
   "metadata": {},
   "outputs": [
    {
     "name": "stdin",
     "output_type": "stream",
     "text": [
      "Enter a list of numbers with spaces:  2 2 2 2 2 2 24 5 5 6 6\n"
     ]
    },
    {
     "name": "stdout",
     "output_type": "stream",
     "text": [
      "The largest number in the list is: 24\n"
     ]
    }
   ],
   "source": [
    "user_list = list(map(int, input(\"Enter a list of numbers with spaces: \").split()))\n",
    "\n",
    "largest = user_list[0] \n",
    "for num in user_list:\n",
    "    if num > largest:\n",
    "        largest = num\n",
    "    \n",
    "print(f\"The largest number in the list is: {largest}\")"
   ]
  },
  {
   "cell_type": "code",
   "execution_count": 29,
   "id": "b3cae437-e26f-4a32-86ab-7c7d41f436ec",
   "metadata": {},
   "outputs": [
    {
     "name": "stdin",
     "output_type": "stream",
     "text": [
      "Enter a list of elements separated by spaces:  2 2 2 2 2 45 5 5 55 5 \n"
     ]
    },
    {
     "name": "stdout",
     "output_type": "stream",
     "text": [
      "The rotated list is: ['2', '2', '2', '2', '45', '5', '5', '55', '5', '2']\n"
     ]
    }
   ],
   "source": [
    "user_list = input(\"Enter a list of elements separated by spaces: \").split()\n",
    "rotated_list = user_list[1:] + user_list[:1]\n",
    "print(f\"The rotated list is: {rotated_list}\")"
   ]
  },
  {
   "cell_type": "code",
   "execution_count": 1,
   "id": "7764120c-db6c-4c24-9322-337a48223c2d",
   "metadata": {},
   "outputs": [
    {
     "name": "stdin",
     "output_type": "stream",
     "text": [
      "Enter a string:  wajahat is wajahat\n",
      "Enter the word you want to delete:  is\n"
     ]
    },
    {
     "name": "stdout",
     "output_type": "stream",
     "text": [
      "The updated string is: wajahat  wajahat\n"
     ]
    }
   ],
   "source": [
    "user_string = input(\"Enter a string: \")\n",
    "word_to_delete = input(\"Enter the word you want to delete: \")\n",
    "updated_string = user_string.replace(word_to_delete, \"\")\n",
    "print(f\"The updated string is: {updated_string}\")"
   ]
  },
  {
   "cell_type": "code",
   "execution_count": 3,
   "id": "c525c384-12e3-4889-ac96-008d1d5d1d83",
   "metadata": {},
   "outputs": [
    {
     "name": "stdin",
     "output_type": "stream",
     "text": [
      "Enter a sentence:  hello my  name is wajahat\n"
     ]
    },
    {
     "name": "stdout",
     "output_type": "stream",
     "text": [
      "converting Sentence: Hello My  Name Is Wajahat\n"
     ]
    }
   ],
   "source": [
    "user_input = input(\"Enter a sentence: \")\n",
    "capitalized_string = user_input.title()\n",
    "print(\"converting Sentence:\", capitalized_string)"
   ]
  },
  {
   "cell_type": "code",
   "execution_count": 11,
   "id": "f0066a51-1461-499d-953d-a165aac93368",
   "metadata": {},
   "outputs": [
    {
     "name": "stdin",
     "output_type": "stream",
     "text": [
      "Enter the number of rows (m):  1\n",
      "Enter the number of columns (n):  2\n"
     ]
    },
    {
     "name": "stdout",
     "output_type": "stream",
     "text": [
      "Enter the elements of the matrix row by row:\n"
     ]
    },
    {
     "name": "stdin",
     "output_type": "stream",
     "text": [
      "Enter elements of row 1 separated by space:  2 3\n"
     ]
    },
    {
     "name": "stdout",
     "output_type": "stream",
     "text": [
      "Sum of row 1 = 5\n"
     ]
    }
   ],
   "source": [
    "m = int(input(\"Enter the number of rows (m): \"))\n",
    "n = int(input(\"Enter the number of columns (n): \"))\n",
    "print(\"Enter the elements of the matrix row by row:\")\n",
    "matrix = []\n",
    "for i in range(m):\n",
    "    row = list(map(int, input(f\"Enter elements of row {i+1} separated by space: \").split()))\n",
    "    matrix.append(row)\n",
    "for i in range(m):\n",
    "    row_sum = sum(matrix[i])\n",
    "    print(f\"Sum of row {i+1} = {row_sum}\")\n"
   ]
  },
  {
   "cell_type": "code",
   "execution_count": 28,
   "id": "db501835-630c-4b45-9548-dec1d758c4a4",
   "metadata": {},
   "outputs": [
    {
     "name": "stdin",
     "output_type": "stream",
     "text": [
      "Enter the number of rows (n):  2\n",
      "Enter the number of columns (m):  2\n"
     ]
    },
    {
     "name": "stdout",
     "output_type": "stream",
     "text": [
      "Enter elements of the first matrix row by row:\n"
     ]
    },
    {
     "name": "stdin",
     "output_type": "stream",
     "text": [
      "Enter elements of row 1:  1 4\n",
      "Enter elements of row 2:  11 5\n"
     ]
    },
    {
     "name": "stdout",
     "output_type": "stream",
     "text": [
      "Enter elements of the second matrix row by row:\n"
     ]
    },
    {
     "name": "stdin",
     "output_type": "stream",
     "text": [
      "Enter elements of row 1:  2 6\n",
      "Enter elements of row 2:  22 6\n"
     ]
    },
    {
     "name": "stdout",
     "output_type": "stream",
     "text": [
      "Resultant Matrix after Addition:\n",
      "3 10\n",
      "33 11\n"
     ]
    }
   ],
   "source": [
    "n = int(input(\"Enter the number of rows (n): \"))\n",
    "m = int(input(\"Enter the number of columns (m): \"))\n",
    "print(\"Enter elements of the first matrix row by row:\")\n",
    "matrix1 = []\n",
    "for i in range(n):\n",
    "    row = list(map(int, input(f\"Enter elements of row {i+1}: \").split()))\n",
    "    matrix1.append(row)\n",
    "print(\"Enter elements of the second matrix row by row:\")\n",
    "matrix2 = []\n",
    "for i in range(n):\n",
    "    row = list(map(int, input(f\"Enter elements of row {i+1}: \").split()))\n",
    "    matrix2.append(row)\n",
    "result = []\n",
    "for i in range(n):\n",
    "    row = []\n",
    "    for j in range(m):\n",
    "        row.append(matrix1[i][j] + matrix2[i][j])\n",
    "    result.append(row)\n",
    "print(\"Resultant Matrix after Addition:\")\n",
    "for row in result:\n",
    "    print(\" \".join(map(str, row)))"
   ]
  },
  {
   "cell_type": "code",
   "execution_count": null,
   "id": "a165b231-bfe6-49fa-8735-86ad36805523",
   "metadata": {},
   "outputs": [],
   "source": []
  }
 ],
 "metadata": {
  "kernelspec": {
   "display_name": "Python 3 (ipykernel)",
   "language": "python",
   "name": "python3"
  },
  "language_info": {
   "codemirror_mode": {
    "name": "ipython",
    "version": 3
   },
   "file_extension": ".py",
   "mimetype": "text/x-python",
   "name": "python",
   "nbconvert_exporter": "python",
   "pygments_lexer": "ipython3",
   "version": "3.12.7"
  }
 },
 "nbformat": 4,
 "nbformat_minor": 5
}
