{
 "cells": [
  {
   "cell_type": "code",
   "execution_count": 1,
   "id": "f3ec9600-25aa-46a9-b64f-771c819a4811",
   "metadata": {},
   "outputs": [
    {
     "name": "stdin",
     "output_type": "stream",
     "text": [
      "Please add a width of rectangle:  156\n",
      "Please add a length of rectangle:  782\n"
     ]
    },
    {
     "name": "stdout",
     "output_type": "stream",
     "text": [
      "Area of Rectangle 121992.0\n"
     ]
    }
   ],
   "source": [
    "# 1. Area of a Rectangle:\n",
    "\n",
    "width = float(input(\"Please add a width of rectangle: \"))\n",
    "length = float(input(\"Please add a length of rectangle: \"))\n",
    "\n",
    "area = width * length\n",
    "\n",
    "print(\"Area of Rectangle\", area)"
   ]
  },
  {
   "cell_type": "code",
   "execution_count": 2,
   "id": "e904e906-e704-4aac-a4bf-83f6bdafb81a",
   "metadata": {},
   "outputs": [
    {
     "name": "stdin",
     "output_type": "stream",
     "text": [
      "Please add a radius of circle:  78.05\n"
     ]
    },
    {
     "name": "stdout",
     "output_type": "stream",
     "text": [
      "Circumference: 490.4026132253667\n"
     ]
    }
   ],
   "source": [
    "# 2. Circumference of a Circle:\n",
    "\n",
    "import math\n",
    "\n",
    "radius = float(input(\"Please add a radius of circle: \"))\n",
    "\n",
    "circumference = 2*math.pi*radius\n",
    "\n",
    "print(\"Circumference:\", circumference)"
   ]
  },
  {
   "cell_type": "code",
   "execution_count": 3,
   "id": "2068a64c-db20-4698-ab79-a43856fcd4fb",
   "metadata": {},
   "outputs": [
    {
     "name": "stdin",
     "output_type": "stream",
     "text": [
      "Please add a principal of interest calculation:  6\n",
      "Please add a rate of interest calculation:  4.75\n",
      "Please add a time of interest calculatione:  10\n"
     ]
    },
    {
     "name": "stdout",
     "output_type": "stream",
     "text": [
      "Simple Interest: 2.85\n"
     ]
    }
   ],
   "source": [
    "# 3. Simple Interest:\n",
    "\n",
    "principal = float(input(\"Please add a principal of interest calculation: \"))\n",
    "rate = float(input(\"Please add a rate of interest calculation: \"))\n",
    "time = float(input(\"Please add a time of interest calculatione: \"))\n",
    "\n",
    "simpleInterest = principal * rate * time / 100\n",
    "\n",
    "print(\"Simple Interest:\", simpleInterest)"
   ]
  },
  {
   "cell_type": "code",
   "execution_count": 4,
   "id": "013c2888-d86c-4bd4-85f3-a21f63bc6049",
   "metadata": {},
   "outputs": [
    {
     "name": "stdin",
     "output_type": "stream",
     "text": [
      "Please add a distance in meter for speed calculation:  2000\n",
      "Please add a time in second for speed calculation:  25\n"
     ]
    },
    {
     "name": "stdout",
     "output_type": "stream",
     "text": [
      "80.0 mtr/second\n"
     ]
    }
   ],
   "source": [
    "# 4. Speed of an Object:\n",
    "\n",
    "distance = float(input(\"Please add a distance in meter for speed calculation: \"))\n",
    "time = float(input(\"Please add a time in second for speed calculation: \"))\n",
    "\n",
    "speed = distance / time\n",
    "\n",
    "print(speed, \"mtr/second\")"
   ]
  },
  {
   "cell_type": "code",
   "execution_count": 5,
   "id": "daacedc5-72b6-4bca-9c2a-90afadf5a4cd",
   "metadata": {},
   "outputs": [
    {
     "name": "stdin",
     "output_type": "stream",
     "text": [
      "Please add a height in meter for BMI calculator:  6.7\n",
      "Please add a weight in kg for BMI calculator:  65.80\n"
     ]
    },
    {
     "name": "stdout",
     "output_type": "stream",
     "text": [
      "bmi 1.465805301848964\n"
     ]
    }
   ],
   "source": [
    "# 5. BMI Calculator:\n",
    "\n",
    "height = float(input(\"Please add a height in meter for BMI calculator: \"))\n",
    "weight = float(input(\"Please add a weight in kg for BMI calculator: \"))\n",
    "\n",
    "bmi = weight / (height * height)\n",
    "\n",
    "print(\"bmi\", bmi)"
   ]
  },
  {
   "cell_type": "code",
   "execution_count": 7,
   "id": "0cd883bc-4a86-47ef-8c79-e59617beed9d",
   "metadata": {},
   "outputs": [
    {
     "name": "stdin",
     "output_type": "stream",
     "text": [
      "Please add a Mass in kg:  56.75\n",
      "Please add a acceleration in (meter/second*second):  20\n"
     ]
    },
    {
     "name": "stdout",
     "output_type": "stream",
     "text": [
      "force 1135.0\n"
     ]
    }
   ],
   "source": [
    "# 6. Force Using Newton's Second Law:\n",
    "\n",
    "massInKg = float(input(\"Please add a Mass in kg: \"))\n",
    "acceleration = float(input(\"Please add a acceleration in (meter/second*second): \"))\n",
    "\n",
    "force = massInKg * acceleration\n",
    "\n",
    "print(\"force\", force)"
   ]
  },
  {
   "cell_type": "code",
   "execution_count": 8,
   "id": "756d5ae5-de70-43ea-94a0-260390010ad9",
   "metadata": {},
   "outputs": [
    {
     "name": "stdin",
     "output_type": "stream",
     "text": [
      "Please add a Principal Amount:  45000\n",
      "Please add a annual interest rate:  2300\n",
      "Please add a number of times interest is compounded per year:  3\n",
      "Please add a time in years:  5\n"
     ]
    },
    {
     "name": "stdout",
     "output_type": "stream",
     "text": [
      "total amount 852712761229378592596212910871348400628848132096\n"
     ]
    }
   ],
   "source": [
    "# 7. Compound Interest:\n",
    "\n",
    "principal_amount = int(input(\"Please add a Principal Amount: \"))\n",
    "annual_interest_rate = float(input(\"Please add a annual interest rate: \"))\n",
    "number_of_times_interest_is_compounded_per_year = int(input(\"Please add a number of times interest is compounded per year: \"))\n",
    "time_in_years = int(input(\"Please add a time in years: \"))\n",
    "\n",
    "total_amount = principal_amount * (1+(annual_interest_rate/number_of_times_interest_is_compounded_per_year))**(number_of_times_interest_is_compounded_per_year*time_in_years)\n",
    "\n",
    "print(\"total amount\", round(total_amount))"
   ]
  },
  {
   "cell_type": "code",
   "execution_count": 9,
   "id": "71d44fc2-21ee-4dbe-8fbe-ba92535c138d",
   "metadata": {},
   "outputs": [
    {
     "name": "stdin",
     "output_type": "stream",
     "text": [
      "Please add a a side of triangle:  3\n",
      "Please add a b side of triangle:  4\n",
      "Please add a c side of triangle:  5\n"
     ]
    },
    {
     "name": "stdout",
     "output_type": "stream",
     "text": [
      "Perimeter of triangle: 12.0\n"
     ]
    }
   ],
   "source": [
    "# 8. Perimeter of a Triangle:\n",
    "\n",
    "a = float(input(\"Please add a a side of triangle: \"))\n",
    "b = float(input(\"Please add a b side of triangle: \"))\n",
    "c = float(input(\"Please add a c side of triangle: \"))\n",
    "\n",
    "perimeter = a + b + c\n",
    "\n",
    "print(\"Perimeter of triangle:\", perimeter)"
   ]
  },
  {
   "cell_type": "code",
   "execution_count": 10,
   "id": "7bb7322f-328c-4329-8607-99c7c3323ae0",
   "metadata": {},
   "outputs": [
    {
     "name": "stdin",
     "output_type": "stream",
     "text": [
      "Please add radius of sphere:  6.9\n"
     ]
    },
    {
     "name": "stdout",
     "output_type": "stream",
     "text": [
      "volume: 1376.0552813841728\n"
     ]
    }
   ],
   "source": [
    "# 9. Volume of a Sphere:\n",
    "\n",
    "import math as mt\n",
    "\n",
    "radius = float(input(\"Please add radius of sphere: \"))\n",
    "\n",
    "volume = 4/3 * mt.pi * radius**3\n",
    "\n",
    "print(\"volume:\", volume)"
   ]
  },
  {
   "cell_type": "code",
   "execution_count": 11,
   "id": "f38db046-639b-4617-9b6a-027af82b7482",
   "metadata": {},
   "outputs": [
    {
     "name": "stdin",
     "output_type": "stream",
     "text": [
      "Please add (mass in kilograms):  3.4\n",
      "Please add (velocity in meters/second):  2.5\n"
     ]
    },
    {
     "name": "stdout",
     "output_type": "stream",
     "text": [
      "Kinetic energy: 10.625J\n"
     ]
    }
   ],
   "source": [
    "# 10. Kinetic Energy:\n",
    "\n",
    "mass_in_kg = float(input(\"Please add (mass in kilograms): \"))\n",
    "velocity_in_ms = float(input(\"Please add (velocity in meters/second): \"))\n",
    "\n",
    "ke = 1/2 * mass_in_kg * velocity_in_ms**2\n",
    "\n",
    "print(f\"Kinetic energy: {ke}J\")"
   ]
  },
  {
   "cell_type": "code",
   "execution_count": 14,
   "id": "2ffe05e9-4b4c-4204-a5cb-b1b6717b97b9",
   "metadata": {},
   "outputs": [
    {
     "ename": "SyntaxError",
     "evalue": "invalid decimal literal (3762946577.py, line 7)",
     "output_type": "error",
     "traceback": [
      "\u001b[1;36m  Cell \u001b[1;32mIn[14], line 7\u001b[1;36m\u001b[0m\n\u001b[1;33m    x = b**2 - 4ac\u001b[0m\n\u001b[1;37m               ^\u001b[0m\n\u001b[1;31mSyntaxError\u001b[0m\u001b[1;31m:\u001b[0m invalid decimal literal\n"
     ]
    }
   ],
   "source": [
    "# 11. Quadratic Equation Roots:\n",
    "\n",
    "a = float(input(\"Please add a :\"))\n",
    "b = float(input(\"Please add b :\"))\n",
    "c = float(input(\"Please add c :\"))\n",
    "\n",
    "x = -b+-\n",
    "\n",
    "print(x)"
   ]
  },
  {
   "cell_type": "code",
   "execution_count": 15,
   "id": "7d862d20-7cdc-4755-bc24-c10dc3022835",
   "metadata": {},
   "outputs": [
    {
     "name": "stdin",
     "output_type": "stream",
     "text": [
      "Please add temp in celcius for converting into ferenhite 36\n"
     ]
    },
    {
     "name": "stdout",
     "output_type": "stream",
     "text": [
      "96.8\n"
     ]
    }
   ],
   "source": [
    "# 12. Temperature Conversion:\n",
    "\n",
    "temp_in_c = float(input(\"Please add temp in celcius for converting into ferenhite\"))\n",
    "\n",
    "temp_in_f = 9/5 * temp_in_c + 32\n",
    "\n",
    "print(temp_in_f)"
   ]
  },
  {
   "cell_type": "code",
   "execution_count": 20,
   "id": "dd211cc1-eb1e-4d6b-bdf6-6f874b19dd60",
   "metadata": {},
   "outputs": [
    {
     "name": "stdin",
     "output_type": "stream",
     "text": [
      "Please add first masses of the objects:  56\n",
      "Please add second masses of the objects:  34\n",
      "Please add the distance between the centers of the objects:  2\n"
     ]
    },
    {
     "name": "stdout",
     "output_type": "stream",
     "text": [
      "317682400000000.0\n"
     ]
    }
   ],
   "source": [
    "## 13. Gravitational Force:\n",
    "\n",
    "m1 = float(input(\"Please add first masses of the objects: \"))\n",
    "m2 = float(input(\"Please add second masses of the objects: \"))\n",
    "r = float(input(\"Please add the distance between the centers of the objects: \"))\n",
    "\n",
    "f = 6.674 * 10**11 *(m1 * m2) / (r**2)\n",
    "\n",
    "print(f)"
   ]
  },
  {
   "cell_type": "code",
   "execution_count": 21,
   "id": "fce61413-3cf5-4d83-b1e9-492a8e06194a",
   "metadata": {},
   "outputs": [
    {
     "name": "stdin",
     "output_type": "stream",
     "text": [
      "Please add radius:  34\n",
      "Please add height:  2\n"
     ]
    },
    {
     "name": "stdout",
     "output_type": "stream",
     "text": [
      "Volume: 7263.362215099602\n"
     ]
    }
   ],
   "source": [
    "# 14. Volume of a Cylinder:\n",
    "\n",
    "import math as mt\n",
    "\n",
    "radius = float(input(\"Please add radius: \"))\n",
    "height = float(input(\"Please add height: \"))\n",
    "\n",
    "volume = mt.pi * radius**2 * height\n",
    "\n",
    "print(\"Volume:\", volume)"
   ]
  },
  {
   "cell_type": "code",
   "execution_count": 22,
   "id": "0a72a240-02a4-49d2-8692-27c912322268",
   "metadata": {},
   "outputs": [
    {
     "name": "stdin",
     "output_type": "stream",
     "text": [
      "Please add force:  23\n",
      "Please add area:  56\n"
     ]
    },
    {
     "name": "stdout",
     "output_type": "stream",
     "text": [
      "Pressure: 0.4107142857142857\n"
     ]
    }
   ],
   "source": [
    "# 15. Pressure:\n",
    "\n",
    "force = float(input(\"Please add force: \"))\n",
    "area = float(input(\"Please add area: \"))\n",
    "\n",
    "pressure = force/area\n",
    "\n",
    "print(\"Pressure:\", pressure)"
   ]
  },
  {
   "cell_type": "code",
   "execution_count": 23,
   "id": "ed6b5a71-e45b-4bb0-a857-a5fcf1dbfc85",
   "metadata": {},
   "outputs": [
    {
     "name": "stdin",
     "output_type": "stream",
     "text": [
      "Please add voltage:  3.2\n",
      "Please add current:  2.09\n"
     ]
    },
    {
     "name": "stdout",
     "output_type": "stream",
     "text": [
      "Powere: 1.5311004784688997\n"
     ]
    }
   ],
   "source": [
    "# 16. Electric Power:\n",
    "\n",
    "voltage = float(input(\"Please add voltage: \"))\n",
    "current = float(input(\"Please add current: \"))\n",
    "\n",
    "power = voltage/current\n",
    "\n",
    "print(\"Powere:\", power)"
   ]
  },
  {
   "cell_type": "code",
   "execution_count": 24,
   "id": "fa03170c-341b-4f6a-afd3-7b3645c87330",
   "metadata": {},
   "outputs": [
    {
     "name": "stdin",
     "output_type": "stream",
     "text": [
      "Please add radius:  3.59\n"
     ]
    },
    {
     "name": "stdout",
     "output_type": "stream",
     "text": [
      "Circumference: 22.556635252774715\n"
     ]
    }
   ],
   "source": [
    "# 17. Perimeter of a Circle (Circumference):\n",
    "\n",
    "import math as mt\n",
    "\n",
    "radius = float(input(\"Please add radius: \"))\n",
    "\n",
    "circumference = 2 *  mt.pi * radius\n",
    "\n",
    "print(\"Circumference:\", circumference)"
   ]
  },
  {
   "cell_type": "code",
   "execution_count": 25,
   "id": "717214c3-3b94-4b87-b6d9-d8e8fed75b04",
   "metadata": {},
   "outputs": [
    {
     "name": "stdin",
     "output_type": "stream",
     "text": [
      "Please add present value:  360\n",
      "Please add annual interest rate:  5\n",
      "Please add time in years:  2\n"
     ]
    },
    {
     "name": "stdout",
     "output_type": "stream",
     "text": [
      "Future value: 12960.0\n"
     ]
    }
   ],
   "source": [
    "# 18. Future Value in Savings:\n",
    "\n",
    "pv = float(input(\"Please add present value: \"))\n",
    "r = float(input(\"Please add annual interest rate: \"))\n",
    "t = float(input(\"Please add time in years: \"))\n",
    "\n",
    "fv = pv * (1 + r)**t\n",
    "\n",
    "print(\"Future value:\", fv)"
   ]
  },
  {
   "cell_type": "code",
   "execution_count": 26,
   "id": "b3bcfa47-b9dd-49ad-8c24-94a7ed1a1b20",
   "metadata": {},
   "outputs": [
    {
     "name": "stdin",
     "output_type": "stream",
     "text": [
      "Please add force:  670\n",
      "Please add distance:  2000\n",
      "Please add angle between force and direction of movement (in degrees):  70.65\n"
     ]
    },
    {
     "name": "stdout",
     "output_type": "stream",
     "text": [
      "Work: 443992.770539845\n"
     ]
    }
   ],
   "source": [
    "# 19. Work Done by a Force:\n",
    "\n",
    "import math as mt\n",
    "\n",
    "force = float(input(\"Please add force: \"))\n",
    "distance = float(input(\"Please add distance: \"))\n",
    "t_degrees = float(input(\"Please add angle between force and direction of movement (in degrees): \"))\n",
    "\n",
    "angle_radians = mt.radians(t_degrees)\n",
    "\n",
    "w = force * distance * mt.cos(angle_radians)\n",
    "\n",
    "print(\"Work:\", w)"
   ]
  },
  {
   "cell_type": "code",
   "execution_count": 27,
   "id": "08990fab-503b-4636-bfce-607f8f07aaca",
   "metadata": {},
   "outputs": [
    {
     "name": "stdin",
     "output_type": "stream",
     "text": [
      "Please add mass:  560\n",
      "Please add specific heat capacity:  23\n",
      "Please add initial temp:  12\n",
      "Please add final temp:  24\n"
     ]
    },
    {
     "name": "stdout",
     "output_type": "stream",
     "text": [
      "Heat transfer: 154560.0\n"
     ]
    }
   ],
   "source": [
    "# 20. Heat Transfer:\n",
    "\n",
    "m, c, initial_t, final_t = float(input(\"Please add mass: \")), float(input(\"Please add specific heat capacity: \")), float(input(\"Please add initial temp: \")), float(input(\"Please add final temp: \"))\n",
    "\n",
    "delta_t = final_t-initial_t\n",
    "\n",
    "q = m * c * delta_t\n",
    "\n",
    "print(\"Heat transfer:\", q)"
   ]
  },
  {
   "cell_type": "code",
   "execution_count": null,
   "id": "dd754597-734f-463c-ab28-788c4dcec50b",
   "metadata": {},
   "outputs": [],
   "source": []
  }
 ],
 "metadata": {
  "kernelspec": {
   "display_name": "Python 3 (ipykernel)",
   "language": "python",
   "name": "python3"
  },
  "language_info": {
   "codemirror_mode": {
    "name": "ipython",
    "version": 3
   },
   "file_extension": ".py",
   "mimetype": "text/x-python",
   "name": "python",
   "nbconvert_exporter": "python",
   "pygments_lexer": "ipython3",
   "version": "3.12.7"
  }
 },
 "nbformat": 4,
 "nbformat_minor": 5
}
