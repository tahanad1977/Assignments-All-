{
 "cells": [
  {
   "cell_type": "code",
   "execution_count": 2,
   "id": "ba90e6fe-b6ac-4188-9999-1d3782fbe40a",
   "metadata": {},
   "outputs": [
    {
     "name": "stdin",
     "output_type": "stream",
     "text": [
      "Enter The Total Purchase in Dollars:  250\n"
     ]
    },
    {
     "name": "stdout",
     "output_type": "stream",
     "text": [
      "Total Purchase Amount: $250\n",
      "Discount Availed: $250\n",
      "Total Payable : $225\n"
     ]
    }
   ],
   "source": [
    "#1\n",
    "\n",
    "total_purchase=int(input('Enter The Total Purchase in Dollars: '))\n",
    "if total_purchase>100:\n",
    "    disc=int(total_purchase*0.10)\n",
    "    print(f\"Total Purchase Amount: ${total_purchase}\")\n",
    "    print(f\"Discount Availed: ${total_purchase}\")\n",
    "    print(f\"Total Payable : ${total_purchase-disc}\")\n",
    "else:\n",
    "    print(f\"The Total Price You Have to Pay is ${total_purchase}\")"
   ]
  },
  {
   "cell_type": "code",
   "execution_count": 4,
   "id": "2b9ab86e-8229-4a89-bbf5-1177ef147e6e",
   "metadata": {},
   "outputs": [
    {
     "name": "stdin",
     "output_type": "stream",
     "text": [
      "Please Enter The No Of Items You Purchased:  5\n",
      "Please Enter The Total Amount:  3400\n"
     ]
    },
    {
     "name": "stdout",
     "output_type": "stream",
     "text": [
      "The Total Amount You Have to Pay is 3400\n"
     ]
    }
   ],
   "source": [
    "#2\n",
    "\n",
    "total_items=int(input(\"Please Enter The No Of Items You Purchased: \"))\n",
    "total_amount=int(input(\"Please Enter The Total Amount: \"))\n",
    "if total_items>5:\n",
    "    disc=int(total_amount*0.15)\n",
    "    print(f\"The Total Amount You Have to Pay is {total_amount-disc}\")\n",
    "else:\n",
    "    print(f\"The Total Amount You Have to Pay is {total_amount}\")"
   ]
  },
  {
   "cell_type": "code",
   "execution_count": 6,
   "id": "b15879d0-1f96-4295-9180-06f087774a42",
   "metadata": {},
   "outputs": [
    {
     "name": "stdin",
     "output_type": "stream",
     "text": [
      "Are You A Member or not(Y/N):  y\n"
     ]
    },
    {
     "name": "stdout",
     "output_type": "stream",
     "text": [
      "You are a member, Will have to pay8000.0\n"
     ]
    }
   ],
   "source": [
    "#3\n",
    "\n",
    "price =10000\n",
    "is_member=input(\"Are You A Member or not(Y/N): \").lower()\n",
    "if is_member=='y':\n",
    "    print(f\"You are a member, Will have to pay{price*.80}\")\n",
    "else:\n",
    "    print(f\"You are non member will have to pay {price*.95}\")"
   ]
  },
  {
   "cell_type": "code",
   "execution_count": 8,
   "id": "792db4db-e13d-43a5-bb4c-eb7cea0beac5",
   "metadata": {},
   "outputs": [
    {
     "name": "stdin",
     "output_type": "stream",
     "text": [
      "Please Enter the Price:  3467\n",
      "Is Today Holiday (Y/N) :  n\n"
     ]
    },
    {
     "name": "stdout",
     "output_type": "stream",
     "text": [
      "Today is No holiday you have to pay 3120.3\n"
     ]
    }
   ],
   "source": [
    "#4\n",
    "\n",
    "price=int(input(\"Please Enter the Price: \"))\n",
    "is_holiday=input(\"Is Today Holiday (Y/N) : \").lower()\n",
    "if is_holiday=='y':\n",
    "    print(f\"Today is holiday you have to pay {price*.75}\")\n",
    "else:\n",
    "    print(f\"Today is No holiday you have to pay {price*.90}\")"
   ]
  },
  {
   "cell_type": "code",
   "execution_count": 9,
   "id": "519b82cb-6a2b-4cfc-83e7-206d9e37875b",
   "metadata": {},
   "outputs": [
    {
     "name": "stdin",
     "output_type": "stream",
     "text": [
      "Enter No of items bought :  908\n",
      "Enter Price of items:  3\n"
     ]
    },
    {
     "name": "stdout",
     "output_type": "stream",
     "text": [
      "You have to pay 1.5 due to buying of even no of items \n"
     ]
    }
   ],
   "source": [
    "#5\n",
    "\n",
    "no_items=int(input(\"Enter No of items bought : \"))\n",
    "price=int(input(\"Enter Price of items: \"))\n",
    "if no_items%2==0:\n",
    "    print(f\"You have to pay {price*.50} due to buying of even no of items \")\n",
    "else:\n",
    "    print(f\"You have to pay {price} due to buying of odd no of items \")"
   ]
  },
  {
   "cell_type": "code",
   "execution_count": 10,
   "id": "dacd2091-23ae-48da-96f4-35bb27b533f5",
   "metadata": {},
   "outputs": [
    {
     "name": "stdin",
     "output_type": "stream",
     "text": [
      "Please Enter the price of item in dollars:  5\n"
     ]
    },
    {
     "name": "stdout",
     "output_type": "stream",
     "text": [
      "The Total price after tax is 5.4 \n"
     ]
    }
   ],
   "source": [
    "#6\n",
    "\n",
    "price_item=int(input(\"Please Enter the price of item in dollars: \"))\n",
    "if price_item>500:\n",
    "    tax=price_item*.15\n",
    "else:\n",
    "    tax=price_item*.08\n",
    "    total_price=price_item+tax\n",
    "    print(f\"The Total price after tax is {total_price} \" )\n"
   ]
  },
  {
   "cell_type": "code",
   "execution_count": 11,
   "id": "194d25b6-6f34-4746-ac68-f5627d1c6206",
   "metadata": {},
   "outputs": [
    {
     "name": "stdin",
     "output_type": "stream",
     "text": [
      "Please Enter Your Annual Income in Dollars:  45000\n"
     ]
    },
    {
     "name": "stdout",
     "output_type": "stream",
     "text": [
      "The tax you have to pay is 4500.0 \n"
     ]
    }
   ],
   "source": [
    "#7\n",
    "\n",
    "annual_income=int(input(\"Please Enter Your Annual Income in Dollars: \"))\n",
    "if annual_income>50000:\n",
    "    tax=annual_income*.20\n",
    "else:\n",
    "    tax=annual_income*.10\n",
    "    print(f\"The tax you have to pay is {tax} \")"
   ]
  },
  {
   "cell_type": "code",
   "execution_count": 12,
   "id": "d9342070-2e4c-4df2-ada7-8ad019275ef3",
   "metadata": {},
   "outputs": [
    {
     "name": "stdin",
     "output_type": "stream",
     "text": [
      "Please Enter Your Income in dollars:  4570\n"
     ]
    },
    {
     "name": "stdout",
     "output_type": "stream",
     "text": [
      "Low Tax\n"
     ]
    }
   ],
   "source": [
    "#8\n",
    "\n",
    "income=int(input(\"Please Enter Your Income in dollars: \"))\n",
    "if income<30000:\n",
    "    print(\"Low Tax\")\n",
    "elif income>=30000 and income<100000:\n",
    "    print(\"Medium Tax\")\n",
    "else:\n",
    "    print(\"High Tax\")"
   ]
  },
  {
   "cell_type": "code",
   "execution_count": 13,
   "id": "aba1ca82-5e91-4fc2-9970-b58fa4df57cd",
   "metadata": {},
   "outputs": [
    {
     "name": "stdin",
     "output_type": "stream",
     "text": [
      "Enter the price of item:  23\n",
      "Id this Item Essential (Y/N) : n\n"
     ]
    },
    {
     "name": "stdout",
     "output_type": "stream",
     "text": [
      "The Total price you have to pay is 25.759999999999998\n"
     ]
    }
   ],
   "source": [
    "#9\n",
    "\n",
    "price=int(input(\"Enter the price of item: \"))\n",
    "item=input(\"Id this Item Essential (Y/N) :\").lower()\n",
    "if item=='y':\n",
    "    vat=price*.05\n",
    "else:\n",
    "    vat=price*.12\n",
    "    print(f\"The Total price you have to pay is {price+vat}\")"
   ]
  },
  {
   "cell_type": "code",
   "execution_count": 6,
   "id": "66002770-2488-4b16-b71b-6ef4d1602086",
   "metadata": {},
   "outputs": [
    {
     "name": "stdin",
     "output_type": "stream",
     "text": [
      "Enter the Price:  23\n",
      "Is today tax free day (Y/N) n\n"
     ]
    },
    {
     "name": "stdout",
     "output_type": "stream",
     "text": [
      "You have to pay 24.61\n"
     ]
    }
   ],
   "source": [
    "#10\n",
    "\n",
    "price = float(int(input(\"Enter the Price: \")))\n",
    "tax_free_day=input(\"Is today tax free day (Y/N)\").lower()\n",
    "if tax_free_day=='y':\n",
    "    print(f\"As Today is Tax Free Day So the Price You Have To Pay is {price}\")\n",
    "else:\n",
    "    print(f\"You have to pay {price+price*.07}\")"
   ]
  },
  {
   "cell_type": "code",
   "execution_count": 7,
   "id": "ccd64849-0b05-4dc7-9c40-eed15854b122",
   "metadata": {},
   "outputs": [
    {
     "name": "stdin",
     "output_type": "stream",
     "text": [
      "Please Enter the Total Purchase Amount in dollars:  467\n"
     ]
    },
    {
     "name": "stdout",
     "output_type": "stream",
     "text": [
      "Your Total Amount Including Shipping is: 467\n"
     ]
    }
   ],
   "source": [
    "#11\n",
    "\n",
    "total_purchase=int(input(\"Please Enter the Total Purchase Amount in dollars: \"))\n",
    "if total_purchase>50:\n",
    "    print(f\"Your Total Amount Including Shipping is: {total_purchase}\")\n",
    "else:\n",
    "    print(f\"Your Total Amount Including Shipping is: {total_purchase+5}\")"
   ]
  },
  {
   "cell_type": "code",
   "execution_count": 10,
   "id": "4a3c5ad9-3115-4804-8118-cdfff4107613",
   "metadata": {},
   "outputs": [
    {
     "name": "stdin",
     "output_type": "stream",
     "text": [
      "Please Enter the Amount:  55550\n",
      "Enter the Discount Code:  discount10\n"
     ]
    },
    {
     "name": "stdout",
     "output_type": "stream",
     "text": [
      "You have to pay 52772.5\n"
     ]
    }
   ],
   "source": [
    "#12\n",
    "\n",
    "amount=int(input(\"Please Enter the Amount: \"))\n",
    "disc_code=input(\"Enter the Discount Code: \").upper()\n",
    "if disc_code=='DISCOUNT10':\n",
    "    print(f\"You have to pay {amount*.95}\")\n",
    "else:\n",
    "    print(f\"You have to pay {amount}\")"
   ]
  },
  {
   "cell_type": "code",
   "execution_count": 16,
   "id": "8efdd0d8-54f6-4593-86b6-ff2f22c183d8",
   "metadata": {},
   "outputs": [
    {
     "name": "stdin",
     "output_type": "stream",
     "text": [
      "Enter the total price: $ 34.6\n"
     ]
    },
    {
     "name": "stdout",
     "output_type": "stream",
     "text": [
      "Original Price: $34.6\n",
      "Discounted Price: $34.6\n"
     ]
    }
   ],
   "source": [
    "#13\n",
    "\n",
    "total_price = float(input(\"Enter the total price: $\"))\n",
    "\n",
    "if total_price <= 50:\n",
    "    discount = 0\n",
    "elif 50 < total_price <= 100:\n",
    "    discount = 0.10 \n",
    "else:\n",
    "    discount = 0.20  \n",
    "\n",
    "discounted_price = total_price * (1 - discount)\n",
    "\n",
    "print(\"Original Price: $\" + str(total_price))\n",
    "print(\"Discounted Price: $\" + str(discounted_price))"
   ]
  },
  {
   "cell_type": "code",
   "execution_count": 17,
   "id": "26c70fb6-34a7-490c-aab0-b116be30882e",
   "metadata": {},
   "outputs": [
    {
     "name": "stdin",
     "output_type": "stream",
     "text": [
      "Please Enter the Amonut:  25\n"
     ]
    },
    {
     "name": "stdout",
     "output_type": "stream",
     "text": [
      "The Total Amount is 25\n"
     ]
    }
   ],
   "source": [
    "#14\n",
    "\n",
    "total_amount=int(input(\"Please Enter the Amonut: \"))\n",
    "if total_amount<20:\n",
    "    print(\"Minimun Purchase of $20 is Required. \")\n",
    "else:\n",
    "    print(f\"The Total Amount is {total_amount}\")"
   ]
  },
  {
   "cell_type": "code",
   "execution_count": 20,
   "id": "372ad925-929a-412c-b250-afdfd5197815",
   "metadata": {},
   "outputs": [
    {
     "name": "stdin",
     "output_type": "stream",
     "text": [
      "Enter the purchase amount: $ 44.3\n",
      "Is the customer a loyal member? (Y/N):  n\n"
     ]
    },
    {
     "name": "stdout",
     "output_type": "stream",
     "text": [
      "Loyalty points earned: 44.3\n"
     ]
    }
   ],
   "source": [
    "#15\n",
    "\n",
    "standar_point_rate=1\n",
    "purchase_amount = float(input(\"Enter the purchase amount: $\"))\n",
    "is_loyal = input(\"Is the customer a loyal member? (Y/N): \").lower()\n",
    "if is_loyal==\"y\":\n",
    "    loyalty_points = purchase_amount * standar_point_rate*2\n",
    "else:\n",
    "    loyalty_points = purchase_amount * standar_point_rate\n",
    "    print(f\"Loyalty points earned: {loyalty_points}\")"
   ]
  },
  {
   "cell_type": "code",
   "execution_count": 23,
   "id": "73f349f7-b59d-45bb-8349-446c071fd4ef",
   "metadata": {},
   "outputs": [
    {
     "name": "stdin",
     "output_type": "stream",
     "text": [
      "Enter the miles traveled:  34000\n",
      "Enter the ticket price: $ 2360\n"
     ]
    },
    {
     "name": "stdout",
     "output_type": "stream",
     "text": [
      "Original Ticket Price: $2360.0\n",
      "Final Price: $1888.0\n"
     ]
    }
   ],
   "source": [
    "#16\n",
    "\n",
    "miles_traveled = float(input(\"Enter the miles traveled: \"))\n",
    "ticket_price = float(input(\"Enter the ticket price: $\"))\n",
    "\n",
    "if miles_traveled > 500:\n",
    "    discount = 0.20  \n",
    "else:\n",
    "    discount = 0  \n",
    "\n",
    "\n",
    "final_price = ticket_price * (1 - discount)\n",
    "\n",
    "\n",
    "print(\"Original Ticket Price: $\" + str(ticket_price))\n",
    "print(\"Final Price: $\" + str(final_price))"
   ]
  },
  {
   "cell_type": "code",
   "execution_count": 24,
   "id": "da3930b0-1453-4735-aacd-780035edf6dd",
   "metadata": {},
   "outputs": [
    {
     "name": "stdin",
     "output_type": "stream",
     "text": [
      "Enter Your Age:  23\n"
     ]
    },
    {
     "name": "stdout",
     "output_type": "stream",
     "text": [
      "You have to pay 8000\n"
     ]
    }
   ],
   "source": [
    "#17\n",
    "\n",
    "ticket_price=8000\n",
    "age=int(input(\"Enter Your Age: \"))\n",
    "if age<12 or age>60:\n",
    "    print(f\"You have to pay {ticket_price*.85}\")\n",
    "else:\n",
    "    print(f\"You have to pay {ticket_price}\")"
   ]
  },
  {
   "cell_type": "code",
   "execution_count": 26,
   "id": "d528779f-8479-4370-8f49-163ba1a7af54",
   "metadata": {},
   "outputs": [
    {
     "name": "stdin",
     "output_type": "stream",
     "text": [
      "Is Your Ticket For Weekend:  n\n"
     ]
    },
    {
     "name": "stdout",
     "output_type": "stream",
     "text": [
      "Your Ticket Price is 10000\n"
     ]
    }
   ],
   "source": [
    "#18\n",
    "\n",
    "ticket_price=10000\n",
    "ticket_detail=input(\"Is Your Ticket For Weekend: \").lower()\n",
    "if ticket_detail=='y':\n",
    "    surcharge=ticket_price*.10\n",
    "else:\n",
    "    surcharge=0\n",
    "    print(f\"Your Ticket Price is {surcharge+ticket_price}\")"
   ]
  },
  {
   "cell_type": "code",
   "execution_count": 27,
   "id": "dfef63f5-2718-430b-8fe6-3081254f734c",
   "metadata": {},
   "outputs": [
    {
     "name": "stdin",
     "output_type": "stream",
     "text": [
      "Enter The Baggage Weight in kg:  45\n"
     ]
    },
    {
     "name": "stdout",
     "output_type": "stream",
     "text": [
      "You have to pay 250\n"
     ]
    }
   ],
   "source": [
    "#19\n",
    "\n",
    "baggage_weight=int(input(\"Enter The Baggage Weight in kg: \"))\n",
    "if baggage_weight>20:\n",
    "    baggage_weight=baggage_weight-20\n",
    "    print(f\"You have to pay {baggage_weight*10}\")\n",
    "else:\n",
    "    baggage_weight=baggage_weight\n",
    "    print(f\"You have to pay Nothing\")"
   ]
  },
  {
   "cell_type": "code",
   "execution_count": 28,
   "id": "6e07f1c2-90ef-4d72-8192-c5a1d6071c11",
   "metadata": {},
   "outputs": [
    {
     "name": "stdin",
     "output_type": "stream",
     "text": [
      "Is Your Ticket Booked 30 days in Advance(Y/N):  y\n"
     ]
    },
    {
     "name": "stdout",
     "output_type": "stream",
     "text": [
      "You have to pay 8100.0\n"
     ]
    }
   ],
   "source": [
    "#20\n",
    "\n",
    "ticket_price=9000\n",
    "ticket_detail=input(\"Is Your Ticket Booked 30 days in Advance(Y/N): \").lower()\n",
    "if ticket_detail=='y':\n",
    "    print(f\"You have to pay {ticket_price*.90}\")\n",
    "else:\n",
    "    print(f\"You have to pay {ticket_price}\")"
   ]
  },
  {
   "cell_type": "code",
   "execution_count": 29,
   "id": "4656bca1-6a1d-4288-bf91-80c2db4f6ce6",
   "metadata": {},
   "outputs": [
    {
     "name": "stdin",
     "output_type": "stream",
     "text": [
      "Enter Marks:  34\n"
     ]
    },
    {
     "name": "stdout",
     "output_type": "stream",
     "text": [
      "Fail\n"
     ]
    }
   ],
   "source": [
    "#21\n",
    "\n",
    "marks=int(input(\"Enter Marks: \"))\n",
    "if marks>=40:\n",
    "    print(\"Pass\")\n",
    "else:\n",
    "    print(\"Fail\")"
   ]
  },
  {
   "cell_type": "code",
   "execution_count": 30,
   "id": "8d7c7837-4055-4577-9b42-16d70adbe6ab",
   "metadata": {},
   "outputs": [
    {
     "name": "stdin",
     "output_type": "stream",
     "text": [
      "Please Enter Your scores:  34\n"
     ]
    },
    {
     "name": "stdout",
     "output_type": "stream",
     "text": [
      "Your Grade is F\n"
     ]
    }
   ],
   "source": [
    "#22\n",
    "\n",
    "std_score=int(input(\"Please Enter Your scores: \"))\n",
    "if std_score>=90:\n",
    "    grade=\"A\"\n",
    "elif std_score<=89 and std_score>=75:\n",
    "    grade=\"B\"\n",
    "elif std_score<=74 and std_score>=50:\n",
    "    grade=\"C\"\n",
    "else:\n",
    "    grade=\"F\"\n",
    "    print(f\"Your Grade is {grade}\")"
   ]
  },
  {
   "cell_type": "code",
   "execution_count": 31,
   "id": "942c19d9-87c1-4621-8984-48f760a74c7b",
   "metadata": {},
   "outputs": [
    {
     "name": "stdin",
     "output_type": "stream",
     "text": [
      "Are your All Assignments Completed (Y/N) : n\n"
     ]
    },
    {
     "name": "stdout",
     "output_type": "stream",
     "text": [
      "Your Scores without Bonus Scores Are 70\n"
     ]
    }
   ],
   "source": [
    "#23\n",
    "\n",
    "scores=70\n",
    "assignment_detail=input(\"Are your All Assignments Completed (Y/N) :\").lower()\n",
    "if assignment_detail=='y':\n",
    "    print(f\"Your Scores Including Bonus Scores Are {scores+5}\")\n",
    "else:\n",
    "    print(f\"Your Scores without Bonus Scores Are {scores}\")"
   ]
  },
  {
   "cell_type": "code",
   "execution_count": 34,
   "id": "6afb0297-aa55-40af-b612-0aa364945f30",
   "metadata": {},
   "outputs": [
    {
     "name": "stdin",
     "output_type": "stream",
     "text": [
      "Enter Your Percentage of Attendance:  67\n"
     ]
    },
    {
     "name": "stdout",
     "output_type": "stream",
     "text": [
      "You are not Eligible for Exams.\n"
     ]
    }
   ],
   "source": [
    "#24\n",
    "\n",
    "attendance=int(input(\"Enter Your Percentage of Attendance: \"))\n",
    "if attendance>100:\n",
    "    print(\"Please Enter Attendance Percentage between 0 - 100.\")\n",
    "else:\n",
    "    if attendance>=75:\n",
    "        print(\"You are Eligible for Exams.\")\n",
    "    else:\n",
    "        print(\"You are not Eligible for Exams.\")"
   ]
  },
  {
   "cell_type": "code",
   "execution_count": 38,
   "id": "3933c45e-3a3b-4912-ab25-921a8c70c669",
   "metadata": {},
   "outputs": [
    {
     "name": "stdin",
     "output_type": "stream",
     "text": [
      "Enter Your Grade:  a\n",
      "Enter Your Annual Family Income:  25000\n"
     ]
    },
    {
     "name": "stdout",
     "output_type": "stream",
     "text": [
      "You are Eligible for a scholarship.\n"
     ]
    }
   ],
   "source": [
    "#25\n",
    "\n",
    "\n",
    "grade=input(\"Enter Your Grade: \").lower()\n",
    "if grade=='a':\n",
    "    annual_family_income=int(input(\"Enter Your Annual Family Income: \"))\n",
    "    if annual_family_income<30000:\n",
    "        print(\"You are Eligible for a scholarship.\")\n",
    "    else:\n",
    "        print(\"Sorry You are Not eligible for scholarship due to income greater than 30000.\")\n",
    "else:\n",
    "    print(\"Sorry you are not eligible for scholarship because You don't have grade A\")\n"
   ]
  },
  {
   "cell_type": "code",
   "execution_count": null,
   "id": "8d370cb7-43db-439f-9cc1-d91291f6a440",
   "metadata": {},
   "outputs": [],
   "source": []
  }
 ],
 "metadata": {
  "kernelspec": {
   "display_name": "Python 3 (ipykernel)",
   "language": "python",
   "name": "python3"
  },
  "language_info": {
   "codemirror_mode": {
    "name": "ipython",
    "version": 3
   },
   "file_extension": ".py",
   "mimetype": "text/x-python",
   "name": "python",
   "nbconvert_exporter": "python",
   "pygments_lexer": "ipython3",
   "version": "3.12.7"
  }
 },
 "nbformat": 4,
 "nbformat_minor": 5
}
