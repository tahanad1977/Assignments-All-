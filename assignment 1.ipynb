{
 "cells": [
  {
   "cell_type": "code",
   "execution_count": 1,
   "id": "46b0df78-d6a1-4bce-92f9-e4f108db2f3c",
   "metadata": {},
   "outputs": [
    {
     "name": "stdout",
     "output_type": "stream",
     "text": [
      "hello 98 True 98.5\n"
     ]
    }
   ],
   "source": [
    "#1\n",
    "\n",
    "print(\"hello\" ,98 ,True ,98.5)"
   ]
  },
  {
   "cell_type": "code",
   "execution_count": 2,
   "id": "e03ccc44-521b-49f3-9f98-d0335c644f2b",
   "metadata": {},
   "outputs": [
    {
     "name": "stdout",
     "output_type": "stream",
     "text": [
      "hello-98-True-98.5\n"
     ]
    }
   ],
   "source": [
    "#2\n",
    "\n",
    "print(\"hello\" ,98 ,True ,98.5 ,sep='-')"
   ]
  },
  {
   "cell_type": "code",
   "execution_count": 3,
   "id": "db19cc0b-c8ea-4b5d-9f0f-246d65ccfc09",
   "metadata": {},
   "outputs": [
    {
     "name": "stdout",
     "output_type": "stream",
     "text": [
      "hello 98 True 98.5\n"
     ]
    }
   ],
   "source": [
    "#3\n",
    "\n",
    "print(\"hello\", end=' ')\n",
    "print(98, end=' ')\n",
    "print(True, end=' ')\n",
    "print(98.5)"
   ]
  },
  {
   "cell_type": "code",
   "execution_count": 4,
   "id": "11e665b0-9d00-4918-a1ac-d34944df2fbc",
   "metadata": {},
   "outputs": [
    {
     "name": "stdout",
     "output_type": "stream",
     "text": [
      "\n"
     ]
    }
   ],
   "source": [
    "#4\n",
    "\n",
    "print(\"\")"
   ]
  },
  {
   "cell_type": "code",
   "execution_count": 5,
   "id": "ef23d9e7-6723-4bfb-a228-30663ba9caec",
   "metadata": {},
   "outputs": [],
   "source": [
    "#5\n",
    "\n",
    "name = \"Mr.Ahmed\"\n",
    "age = 30\n",
    "profession = \"lawyer\"\n",
    "education = \"bachelors\"\n",
    "graduation_year = 2005\n",
    "company_name = \"The himalya associates\"\n",
    "company_location = \"karachi\"\n",
    "joining_year = 2015\n",
    "height_Ft = 5.10\n",
    "weight_g = 70600\n",
    "monthly_income = 200000"
   ]
  },
  {
   "cell_type": "code",
   "execution_count": 6,
   "id": "01291827-bff8-484c-9798-f13c3c2d14bf",
   "metadata": {},
   "outputs": [
    {
     "data": {
      "text/plain": [
       "19"
      ]
     },
     "execution_count": 6,
     "metadata": {},
     "output_type": "execute_result"
    }
   ],
   "source": [
    "#6\n",
    "\n",
    "current_year = 2024\n",
    "current_year - graduation_year"
   ]
  },
  {
   "cell_type": "code",
   "execution_count": 7,
   "id": "2404caeb-6c57-4b18-84b5-29caf04aaaff",
   "metadata": {},
   "outputs": [
    {
     "data": {
      "text/plain": [
       "9"
      ]
     },
     "execution_count": 7,
     "metadata": {},
     "output_type": "execute_result"
    }
   ],
   "source": [
    "#7\n",
    "\n",
    "current_year - joining_year"
   ]
  },
  {
   "cell_type": "code",
   "execution_count": 8,
   "id": "5391ffb1-a565-4239-9f3a-e957a718f733",
   "metadata": {},
   "outputs": [],
   "source": [
    "#8\n",
    "\n",
    "dollar = 277\n",
    "monthly_income_dollars = monthly_income / dollar"
   ]
  },
  {
   "cell_type": "code",
   "execution_count": 9,
   "id": "e9741eb7-8e45-4ed6-97c8-4c6885dad064",
   "metadata": {},
   "outputs": [
    {
     "name": "stdout",
     "output_type": "stream",
     "text": [
      "722\n"
     ]
    }
   ],
   "source": [
    "#9\n",
    "\n",
    "type(monthly_income_dollars)\n",
    "monthly_income_dollars = monthly_income // dollar\n",
    "print(monthly_income_dollars)"
   ]
  },
  {
   "cell_type": "code",
   "execution_count": null,
   "id": "8e3ad712-0c86-41e0-92fc-28cf706f4832",
   "metadata": {},
   "outputs": [],
   "source": []
  }
 ],
 "metadata": {
  "kernelspec": {
   "display_name": "Python 3 (ipykernel)",
   "language": "python",
   "name": "python3"
  },
  "language_info": {
   "codemirror_mode": {
    "name": "ipython",
    "version": 3
   },
   "file_extension": ".py",
   "mimetype": "text/x-python",
   "name": "python",
   "nbconvert_exporter": "python",
   "pygments_lexer": "ipython3",
   "version": "3.12.7"
  }
 },
 "nbformat": 4,
 "nbformat_minor": 5
}
